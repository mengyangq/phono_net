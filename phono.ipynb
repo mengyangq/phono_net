{
 "metadata": {
  "language_info": {
   "codemirror_mode": {
    "name": "ipython",
    "version": 3
   },
   "file_extension": ".py",
   "mimetype": "text/x-python",
   "name": "python",
   "nbconvert_exporter": "python",
   "pygments_lexer": "ipython3",
   "version": "3.8.10"
  },
  "orig_nbformat": 2,
  "kernelspec": {
   "name": "python3810jvsc74a57bd046be350fb91db18b63da72703fdc90df0be7e4a33421f7943acd10bdab523862",
   "display_name": "Python 3.8.10 64-bit ('base': conda)"
  }
 },
 "nbformat": 4,
 "nbformat_minor": 2,
 "cells": [
  {
   "cell_type": "code",
   "execution_count": 32,
   "metadata": {},
   "outputs": [],
   "source": [
    "import Levenshtein as lev"
   ]
  },
  {
   "cell_type": "code",
   "execution_count": 2,
   "metadata": {},
   "outputs": [
    {
     "output_type": "execute_result",
     "data": {
      "text/plain": [
       "2"
      ]
     },
     "metadata": {},
     "execution_count": 2
    }
   ],
   "source": [
    "lev.distance('hello','holloo')"
   ]
  },
  {
   "cell_type": "code",
   "execution_count": 44,
   "metadata": {},
   "outputs": [
    {
     "output_type": "execute_result",
     "data": {
      "text/plain": [
       "['replace', 0, 0]"
      ]
     },
     "metadata": {},
     "execution_count": 44
    }
   ],
   "source": [
    "list(lev.editops('H@llo','hel|o')[0])"
   ]
  },
  {
   "cell_type": "code",
   "execution_count": 33,
   "metadata": {},
   "outputs": [],
   "source": [
    "import pandas as pd"
   ]
  },
  {
   "cell_type": "code",
   "execution_count": 58,
   "metadata": {},
   "outputs": [
    {
     "output_type": "stream",
     "name": "stderr",
     "text": [
      "/Users/mengyang/anaconda3/lib/python3.8/site-packages/openpyxl/worksheet/_reader.py:312: UserWarning: Unknown extension is not supported and will be removed\n  warn(msg)\n"
     ]
    }
   ],
   "source": [
    "words = pd.read_excel('words.xlsx')"
   ]
  },
  {
   "cell_type": "code",
   "execution_count": 50,
   "metadata": {},
   "outputs": [
    {
     "output_type": "execute_result",
     "data": {
      "text/plain": [
       "        Node      Ortho      Phono\n",
       "0          1          a          x\n",
       "1          2   aardvark    ardvark\n",
       "2          3      aback       xb@k\n",
       "3          4     abacus     @bxkxs\n",
       "4          5      abaft      xb@ft\n",
       "...      ...        ...        ...\n",
       "19335  19336     Zouave       zUav\n",
       "19336  19337     zounds      zWndz\n",
       "19337  19338  zucchetto     zukEto\n",
       "19338  19339   zwieback     swib@k\n",
       "19339  19340  Zwinglian  zwIGglixn\n",
       "\n",
       "[19340 rows x 3 columns]"
      ],
      "text/html": "<div>\n<style scoped>\n    .dataframe tbody tr th:only-of-type {\n        vertical-align: middle;\n    }\n\n    .dataframe tbody tr th {\n        vertical-align: top;\n    }\n\n    .dataframe thead th {\n        text-align: right;\n    }\n</style>\n<table border=\"1\" class=\"dataframe\">\n  <thead>\n    <tr style=\"text-align: right;\">\n      <th></th>\n      <th>Node</th>\n      <th>Ortho</th>\n      <th>Phono</th>\n    </tr>\n  </thead>\n  <tbody>\n    <tr>\n      <th>0</th>\n      <td>1</td>\n      <td>a</td>\n      <td>x</td>\n    </tr>\n    <tr>\n      <th>1</th>\n      <td>2</td>\n      <td>aardvark</td>\n      <td>ardvark</td>\n    </tr>\n    <tr>\n      <th>2</th>\n      <td>3</td>\n      <td>aback</td>\n      <td>xb@k</td>\n    </tr>\n    <tr>\n      <th>3</th>\n      <td>4</td>\n      <td>abacus</td>\n      <td>@bxkxs</td>\n    </tr>\n    <tr>\n      <th>4</th>\n      <td>5</td>\n      <td>abaft</td>\n      <td>xb@ft</td>\n    </tr>\n    <tr>\n      <th>...</th>\n      <td>...</td>\n      <td>...</td>\n      <td>...</td>\n    </tr>\n    <tr>\n      <th>19335</th>\n      <td>19336</td>\n      <td>Zouave</td>\n      <td>zUav</td>\n    </tr>\n    <tr>\n      <th>19336</th>\n      <td>19337</td>\n      <td>zounds</td>\n      <td>zWndz</td>\n    </tr>\n    <tr>\n      <th>19337</th>\n      <td>19338</td>\n      <td>zucchetto</td>\n      <td>zukEto</td>\n    </tr>\n    <tr>\n      <th>19338</th>\n      <td>19339</td>\n      <td>zwieback</td>\n      <td>swib@k</td>\n    </tr>\n    <tr>\n      <th>19339</th>\n      <td>19340</td>\n      <td>Zwinglian</td>\n      <td>zwIGglixn</td>\n    </tr>\n  </tbody>\n</table>\n<p>19340 rows × 3 columns</p>\n</div>"
     },
     "metadata": {},
     "execution_count": 50
    }
   ],
   "source": [
    "words"
   ]
  },
  {
   "cell_type": "code",
   "execution_count": 24,
   "metadata": {},
   "outputs": [
    {
     "output_type": "execute_result",
     "data": {
      "text/plain": [
       "[2, 'aardvark', 'ardvark']"
      ]
     },
     "metadata": {},
     "execution_count": 24
    }
   ],
   "source": [
    " \n",
    "list(words.iloc[1])"
   ]
  },
  {
   "cell_type": "code",
   "execution_count": 25,
   "metadata": {},
   "outputs": [],
   "source": [
    "test = []\n",
    "test.append(list(words.iloc[1]))"
   ]
  },
  {
   "cell_type": "code",
   "execution_count": 26,
   "metadata": {},
   "outputs": [
    {
     "output_type": "execute_result",
     "data": {
      "text/plain": [
       "[[2, 'aardvark', 'ardvark']]"
      ]
     },
     "metadata": {},
     "execution_count": 26
    }
   ],
   "source": [
    "test"
   ]
  },
  {
   "cell_type": "code",
   "execution_count": 59,
   "metadata": {},
   "outputs": [
    {
     "output_type": "execute_result",
     "data": {
      "text/plain": [
       "19340"
      ]
     },
     "metadata": {},
     "execution_count": 59
    }
   ],
   "source": [
    "len(words)"
   ]
  },
  {
   "cell_type": "code",
   "execution_count": null,
   "metadata": {},
   "outputs": [],
   "source": [
    "words"
   ]
  },
  {
   "cell_type": "code",
   "execution_count": 60,
   "metadata": {
    "tags": []
   },
   "outputs": [],
   "source": [
    "words_list = []\n",
    "for row in words.itertuples():\n",
    "    r = []\n",
    "    r.append(row.Node)\n",
    "    r.append(row.Ortho)\n",
    "    r.append(row.Phono)\n",
    "    words_list.append(r)"
   ]
  },
  {
   "cell_type": "code",
   "execution_count": 61,
   "metadata": {},
   "outputs": [
    {
     "output_type": "execute_result",
     "data": {
      "text/plain": [
       "[17786, 'true', 'tru']"
      ]
     },
     "metadata": {},
     "execution_count": 61
    }
   ],
   "source": [
    "words_list[17785]"
   ]
  },
  {
   "cell_type": "code",
   "execution_count": 62,
   "metadata": {},
   "outputs": [
    {
     "output_type": "stream",
     "name": "stdout",
     "text": [
      "['insert', 1, 1]\n['insert', 1, 1]\n['insert', 1, 1]\n['insert', 1, 1]\n['insert', 1, 1]\n['replace', 0, 0]\n['insert', 1, 1]\n['replace', 0, 0]\n['insert', 0, 0]\n['replace', 0, 0]\n['replace', 0, 0]\n['replace', 0, 0]\n['replace', 0, 0]\n['replace', 0, 0]\n['replace', 0, 0]\n['replace', 0, 0]\n['replace', 0, 0]\n['replace', 0, 0]\n['replace', 0, 0]\n['replace', 0, 0]\n['insert', 0, 0]\n['replace', 0, 0]\n"
     ]
    },
    {
     "output_type": "error",
     "ename": "TypeError",
     "evalue": "editops expected two Strings or two Unicodes",
     "traceback": [
      "\u001b[0;31m---------------------------------------------------------------------------\u001b[0m",
      "\u001b[0;31mTypeError\u001b[0m                                 Traceback (most recent call last)",
      "\u001b[0;32m<ipython-input-62-63858e0f58a1>\u001b[0m in \u001b[0;36m<module>\u001b[0;34m\u001b[0m\n\u001b[1;32m      9\u001b[0m         \u001b[0mo2\u001b[0m \u001b[0;34m=\u001b[0m \u001b[0ml2\u001b[0m\u001b[0;34m[\u001b[0m\u001b[0;36m1\u001b[0m\u001b[0;34m]\u001b[0m\u001b[0;34m\u001b[0m\u001b[0;34m\u001b[0m\u001b[0m\n\u001b[1;32m     10\u001b[0m         \u001b[0mp2\u001b[0m \u001b[0;34m=\u001b[0m \u001b[0ml2\u001b[0m\u001b[0;34m[\u001b[0m\u001b[0;36m2\u001b[0m\u001b[0;34m]\u001b[0m\u001b[0;34m\u001b[0m\u001b[0;34m\u001b[0m\u001b[0m\n\u001b[0;32m---> 11\u001b[0;31m         \u001b[0;32mif\u001b[0m \u001b[0mlen\u001b[0m\u001b[0;34m(\u001b[0m\u001b[0mlev\u001b[0m\u001b[0;34m.\u001b[0m\u001b[0meditops\u001b[0m\u001b[0;34m(\u001b[0m\u001b[0mo1\u001b[0m\u001b[0;34m,\u001b[0m\u001b[0mo2\u001b[0m\u001b[0;34m)\u001b[0m\u001b[0;34m)\u001b[0m \u001b[0;34m==\u001b[0m \u001b[0;36m1\u001b[0m\u001b[0;34m:\u001b[0m\u001b[0;34m\u001b[0m\u001b[0;34m\u001b[0m\u001b[0m\n\u001b[0m\u001b[1;32m     12\u001b[0m             \u001b[0mol\u001b[0m \u001b[0;34m=\u001b[0m \u001b[0ml1\u001b[0m\u001b[0;34m.\u001b[0m\u001b[0mextend\u001b[0m\u001b[0;34m(\u001b[0m\u001b[0ml2\u001b[0m\u001b[0;34m)\u001b[0m\u001b[0;34m\u001b[0m\u001b[0;34m\u001b[0m\u001b[0m\n\u001b[1;32m     13\u001b[0m             \u001b[0moed\u001b[0m \u001b[0;34m=\u001b[0m \u001b[0mlist\u001b[0m\u001b[0;34m(\u001b[0m\u001b[0mlev\u001b[0m\u001b[0;34m.\u001b[0m\u001b[0meditops\u001b[0m\u001b[0;34m(\u001b[0m\u001b[0mo1\u001b[0m\u001b[0;34m,\u001b[0m\u001b[0mo2\u001b[0m\u001b[0;34m)\u001b[0m\u001b[0;34m[\u001b[0m\u001b[0;36m0\u001b[0m\u001b[0;34m]\u001b[0m\u001b[0;34m)\u001b[0m\u001b[0;34m\u001b[0m\u001b[0;34m\u001b[0m\u001b[0m\n",
      "\u001b[0;31mTypeError\u001b[0m: editops expected two Strings or two Unicodes"
     ]
    }
   ],
   "source": [
    "ortho = []\n",
    "phono = []\n",
    "for i in range(0,len(words_list)-1):\n",
    "    l1 = words_list[i]\n",
    "    o1 = str(l1[1])\n",
    "    p1 = str(l1[2])\n",
    "    for j in range(1,len(words_list)):\n",
    "        l2 = words_list[j]\n",
    "        o2 = str(l2[1])\n",
    "        p2 = str(l2[2])\n",
    "        if len(lev.editops(o1,o2)) == 1:\n",
    "            ol = l1.extend(l2)\n",
    "            oed = list(lev.editops(o1,o2)[0])\n",
    "            print(oed)\n",
    "            #ortho.append(ol)\n",
    "        if len(lev.editops(p1,p2)) == 1:\n",
    "            pl = l1.extend(l2)\n",
    "            ped = list(lev.editops(p1,p2)[0])\n",
    "            print(ped)\n",
    "            #phono.append(pl)"
   ]
  },
  {
   "cell_type": "code",
   "execution_count": 46,
   "metadata": {},
   "outputs": [
    {
     "output_type": "execute_result",
     "data": {
      "text/plain": [
       "[]"
      ]
     },
     "metadata": {},
     "execution_count": 46
    }
   ],
   "source": [
    "ortho"
   ]
  },
  {
   "cell_type": "code",
   "execution_count": 63,
   "metadata": {},
   "outputs": [
    {
     "output_type": "execute_result",
     "data": {
      "text/plain": [
       "'True'"
      ]
     },
     "metadata": {},
     "execution_count": 63
    }
   ],
   "source": [
    "str(True)"
   ]
  },
  {
   "cell_type": "code",
   "execution_count": null,
   "metadata": {},
   "outputs": [],
   "source": []
  }
 ]
}