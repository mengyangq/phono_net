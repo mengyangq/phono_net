{
 "metadata": {
  "language_info": {
   "codemirror_mode": {
    "name": "ipython",
    "version": 3
   },
   "file_extension": ".py",
   "mimetype": "text/x-python",
   "name": "python",
   "nbconvert_exporter": "python",
   "pygments_lexer": "ipython3",
   "version": "3.8.10"
  },
  "orig_nbformat": 2,
  "kernelspec": {
   "name": "python3",
   "display_name": "Python 3.8.10 64-bit ('base': conda)"
  },
  "interpreter": {
   "hash": "46be350fb91db18b63da72703fdc90df0be7e4a33421f7943acd10bdab523862"
  }
 },
 "nbformat": 4,
 "nbformat_minor": 2,
 "cells": [
  {
   "cell_type": "code",
   "execution_count": 2,
   "source": [
    "import Levenshtein as lev"
   ],
   "outputs": [],
   "metadata": {}
  },
  {
   "cell_type": "code",
   "execution_count": 4,
   "source": [
    "import pandas as pd"
   ],
   "outputs": [],
   "metadata": {}
  },
  {
   "cell_type": "code",
   "execution_count": 5,
   "source": [
    "import numpy as np"
   ],
   "outputs": [],
   "metadata": {}
  },
  {
   "cell_type": "code",
   "execution_count": 6,
   "source": [
    "english = pd.read_csv('words.csv')"
   ],
   "outputs": [],
   "metadata": {}
  },
  {
   "cell_type": "code",
   "execution_count": 13,
   "source": [
    "english.columns"
   ],
   "outputs": [
    {
     "output_type": "execute_result",
     "data": {
      "text/plain": [
       "Index(['idx', 'Item', 'Pronunciation', 'NumSylls', 'NumPhones', 'Duration',\n",
       "       'OrthUP', 'PhonND', 'OrthND', 'FreqSUBTLEX', 'FreqCOCA', 'FreqCOCAspok',\n",
       "       'FreqGoogle', 'PhonUP', 'Dbet', 'PhonLev', 'NumMorphs', 'OrthLev'],\n",
       "      dtype='object')"
      ]
     },
     "metadata": {},
     "execution_count": 13
    }
   ],
   "metadata": {}
  },
  {
   "cell_type": "code",
   "execution_count": 12,
   "source": [
    "english = english.drop(columns=['Unnamed: 0'])"
   ],
   "outputs": [],
   "metadata": {}
  },
  {
   "cell_type": "code",
   "execution_count": 14,
   "source": [
    "english_list = []\n",
    "for index, row in english.iterrows():\n",
    "    f = [row['idx'],row['Item'],row['Dbet']]\n",
    "    english_list.append(f)\n"
   ],
   "outputs": [],
   "metadata": {}
  },
  {
   "cell_type": "code",
   "execution_count": 15,
   "source": [
    "phono = []\n",
    "for i in range(0,len(english_list)-1):\n",
    "    l1 = english_list[i]\n",
    "    p1 = l1[2]\n",
    "    for j in range(i+1,len(english_list)):\n",
    "        l2 = english_list[j]\n",
    "        p2 = l2[2]\n",
    "        if lev.distance(p1,p2) == 1:\n",
    "            pl = [l1[0],l2[0],l1[1],l2[1],l1[2],l2[2]]\n",
    "            ped = list(lev.editops(p1,p2)[0])\n",
    "            pl.extend(ped)\n",
    "            phono.append(pl)"
   ],
   "outputs": [],
   "metadata": {}
  },
  {
   "cell_type": "code",
   "execution_count": 28,
   "source": [
    "len(phono)"
   ],
   "outputs": [
    {
     "output_type": "execute_result",
     "data": {
      "text/plain": [
       "44368"
      ]
     },
     "metadata": {},
     "execution_count": 28
    }
   ],
   "metadata": {}
  },
  {
   "cell_type": "code",
   "execution_count": 18,
   "source": [
    "phono_replace = []\n",
    "phono_delins = []\n",
    "for p in phono:\n",
    "    if p[6] == 'replace':\n",
    "        phono_replace.append(p)\n",
    "    else:\n",
    "        phono_delins.append(p)"
   ],
   "outputs": [],
   "metadata": {}
  },
  {
   "cell_type": "code",
   "execution_count": 19,
   "source": [
    "phono_df = pd.DataFrame(phono, columns = ['from_node','to_node', 'from_ortho','to_ortho','from_phono','to_phono','type','position','p2']) "
   ],
   "outputs": [],
   "metadata": {}
  },
  {
   "cell_type": "code",
   "execution_count": 21,
   "source": [
    "phono_delins_df = pd.DataFrame(phono_delins, columns = ['from_node','to_node', 'from_ortho','to_ortho','from_phono','to_phono','type','position','p2']) "
   ],
   "outputs": [],
   "metadata": {}
  },
  {
   "cell_type": "code",
   "execution_count": 22,
   "source": [
    "phono_replace_df = pd.DataFrame(phono_replace, columns = ['from_node','to_node', 'from_ortho','to_ortho','from_phono','to_phono','type','position','p2']) "
   ],
   "outputs": [],
   "metadata": {}
  },
  {
   "cell_type": "code",
   "execution_count": 24,
   "source": [
    "phono_replace_df = phono_replace_df.drop(columns=['p2'])\n",
    "phono_df = phono_df.drop(columns=['p2'])\n",
    "phono_delins_df = phono_delins_df.drop(columns=['p2'])"
   ],
   "outputs": [],
   "metadata": {}
  },
  {
   "cell_type": "code",
   "execution_count": 25,
   "source": [
    "phono_replace_df\n"
   ],
   "outputs": [
    {
     "output_type": "execute_result",
     "data": {
      "text/plain": [
       "       from_node  to_node from_ortho to_ortho from_phono to_phono     type  \\\n",
       "0              1     1629          a      awe          ^        >  replace   \n",
       "1              1     8736          a      eye          ^        #  replace   \n",
       "2              1    11747          a        i          ^        #  replace   \n",
       "3              1    16537          a      owe          ^        o  replace   \n",
       "4              2        7      aback    abash       ^b&k     ^b&S  replace   \n",
       "...          ...      ...        ...      ...        ...      ...      ...   \n",
       "30941      26739    26744        yen      yet        yEn      yEt  replace   \n",
       "30942      26741    26744        yes      yet        yEs      yEt  replace   \n",
       "30943      26750    26755         yo      you         yo       yu  replace   \n",
       "30944      26755    26788        you      zoo         yu       zu  replace   \n",
       "30945      26780    26782     zipper    zippy       zIpR     zIpi  replace   \n",
       "\n",
       "       position  \n",
       "0             0  \n",
       "1             0  \n",
       "2             0  \n",
       "3             0  \n",
       "4             3  \n",
       "...         ...  \n",
       "30941         2  \n",
       "30942         2  \n",
       "30943         1  \n",
       "30944         0  \n",
       "30945         3  \n",
       "\n",
       "[30946 rows x 8 columns]"
      ],
      "text/html": [
       "<div>\n",
       "<style scoped>\n",
       "    .dataframe tbody tr th:only-of-type {\n",
       "        vertical-align: middle;\n",
       "    }\n",
       "\n",
       "    .dataframe tbody tr th {\n",
       "        vertical-align: top;\n",
       "    }\n",
       "\n",
       "    .dataframe thead th {\n",
       "        text-align: right;\n",
       "    }\n",
       "</style>\n",
       "<table border=\"1\" class=\"dataframe\">\n",
       "  <thead>\n",
       "    <tr style=\"text-align: right;\">\n",
       "      <th></th>\n",
       "      <th>from_node</th>\n",
       "      <th>to_node</th>\n",
       "      <th>from_ortho</th>\n",
       "      <th>to_ortho</th>\n",
       "      <th>from_phono</th>\n",
       "      <th>to_phono</th>\n",
       "      <th>type</th>\n",
       "      <th>position</th>\n",
       "    </tr>\n",
       "  </thead>\n",
       "  <tbody>\n",
       "    <tr>\n",
       "      <th>0</th>\n",
       "      <td>1</td>\n",
       "      <td>1629</td>\n",
       "      <td>a</td>\n",
       "      <td>awe</td>\n",
       "      <td>^</td>\n",
       "      <td>&gt;</td>\n",
       "      <td>replace</td>\n",
       "      <td>0</td>\n",
       "    </tr>\n",
       "    <tr>\n",
       "      <th>1</th>\n",
       "      <td>1</td>\n",
       "      <td>8736</td>\n",
       "      <td>a</td>\n",
       "      <td>eye</td>\n",
       "      <td>^</td>\n",
       "      <td>#</td>\n",
       "      <td>replace</td>\n",
       "      <td>0</td>\n",
       "    </tr>\n",
       "    <tr>\n",
       "      <th>2</th>\n",
       "      <td>1</td>\n",
       "      <td>11747</td>\n",
       "      <td>a</td>\n",
       "      <td>i</td>\n",
       "      <td>^</td>\n",
       "      <td>#</td>\n",
       "      <td>replace</td>\n",
       "      <td>0</td>\n",
       "    </tr>\n",
       "    <tr>\n",
       "      <th>3</th>\n",
       "      <td>1</td>\n",
       "      <td>16537</td>\n",
       "      <td>a</td>\n",
       "      <td>owe</td>\n",
       "      <td>^</td>\n",
       "      <td>o</td>\n",
       "      <td>replace</td>\n",
       "      <td>0</td>\n",
       "    </tr>\n",
       "    <tr>\n",
       "      <th>4</th>\n",
       "      <td>2</td>\n",
       "      <td>7</td>\n",
       "      <td>aback</td>\n",
       "      <td>abash</td>\n",
       "      <td>^b&amp;k</td>\n",
       "      <td>^b&amp;S</td>\n",
       "      <td>replace</td>\n",
       "      <td>3</td>\n",
       "    </tr>\n",
       "    <tr>\n",
       "      <th>...</th>\n",
       "      <td>...</td>\n",
       "      <td>...</td>\n",
       "      <td>...</td>\n",
       "      <td>...</td>\n",
       "      <td>...</td>\n",
       "      <td>...</td>\n",
       "      <td>...</td>\n",
       "      <td>...</td>\n",
       "    </tr>\n",
       "    <tr>\n",
       "      <th>30941</th>\n",
       "      <td>26739</td>\n",
       "      <td>26744</td>\n",
       "      <td>yen</td>\n",
       "      <td>yet</td>\n",
       "      <td>yEn</td>\n",
       "      <td>yEt</td>\n",
       "      <td>replace</td>\n",
       "      <td>2</td>\n",
       "    </tr>\n",
       "    <tr>\n",
       "      <th>30942</th>\n",
       "      <td>26741</td>\n",
       "      <td>26744</td>\n",
       "      <td>yes</td>\n",
       "      <td>yet</td>\n",
       "      <td>yEs</td>\n",
       "      <td>yEt</td>\n",
       "      <td>replace</td>\n",
       "      <td>2</td>\n",
       "    </tr>\n",
       "    <tr>\n",
       "      <th>30943</th>\n",
       "      <td>26750</td>\n",
       "      <td>26755</td>\n",
       "      <td>yo</td>\n",
       "      <td>you</td>\n",
       "      <td>yo</td>\n",
       "      <td>yu</td>\n",
       "      <td>replace</td>\n",
       "      <td>1</td>\n",
       "    </tr>\n",
       "    <tr>\n",
       "      <th>30944</th>\n",
       "      <td>26755</td>\n",
       "      <td>26788</td>\n",
       "      <td>you</td>\n",
       "      <td>zoo</td>\n",
       "      <td>yu</td>\n",
       "      <td>zu</td>\n",
       "      <td>replace</td>\n",
       "      <td>0</td>\n",
       "    </tr>\n",
       "    <tr>\n",
       "      <th>30945</th>\n",
       "      <td>26780</td>\n",
       "      <td>26782</td>\n",
       "      <td>zipper</td>\n",
       "      <td>zippy</td>\n",
       "      <td>zIpR</td>\n",
       "      <td>zIpi</td>\n",
       "      <td>replace</td>\n",
       "      <td>3</td>\n",
       "    </tr>\n",
       "  </tbody>\n",
       "</table>\n",
       "<p>30946 rows × 8 columns</p>\n",
       "</div>"
      ]
     },
     "metadata": {},
     "execution_count": 25
    }
   ],
   "metadata": {}
  },
  {
   "cell_type": "code",
   "execution_count": 26,
   "source": [
    "phono_df.to_csv('english_phono_links.csv',index=False)"
   ],
   "outputs": [],
   "metadata": {}
  },
  {
   "cell_type": "code",
   "execution_count": 27,
   "source": [
    "phono_replace_df.to_csv('english_phono_replace_links.csv',index=False)\n",
    "phono_delins_df.to_csv('english_phono_delins_links.csv',index=False)"
   ],
   "outputs": [],
   "metadata": {}
  },
  {
   "cell_type": "code",
   "execution_count": 29,
   "source": [
    "english.to_csv('english_phono_nodes.csv',index=False)"
   ],
   "outputs": [],
   "metadata": {}
  },
  {
   "cell_type": "code",
   "execution_count": 30,
   "source": [
    "def intersection(lst1, lst2):\n",
    "    return list(set(lst1) & set(lst2))"
   ],
   "outputs": [],
   "metadata": {}
  },
  {
   "cell_type": "code",
   "execution_count": 32,
   "source": [
    "gc_items = pd.read_csv('all_gc_items.csv',dtype=\"string\")\n",
    "responses = pd.read_csv('mald_response.csv',dtype=\"string\")"
   ],
   "outputs": [],
   "metadata": {}
  },
  {
   "cell_type": "code",
   "execution_count": 35,
   "source": [
    "responses = responses.drop(columns=['Unnamed: 0'])"
   ],
   "outputs": [],
   "metadata": {}
  },
  {
   "cell_type": "code",
   "execution_count": 47,
   "source": [
    "responses[\"Item\"] = responses[\"Item\"].str.lower()"
   ],
   "outputs": [],
   "metadata": {}
  },
  {
   "cell_type": "code",
   "execution_count": 43,
   "source": [
    "gc_items[\"Item\"] = gc_items[\"Item\"].str.lower()"
   ],
   "outputs": [],
   "metadata": {}
  },
  {
   "cell_type": "code",
   "execution_count": 50,
   "source": [
    "dfinal = responses.merge(gc_items, on=\"Item\", how = 'inner')"
   ],
   "outputs": [],
   "metadata": {}
  },
  {
   "cell_type": "code",
   "execution_count": 52,
   "source": [
    "dfinal.to_csv('responses_processed.csv',index=False)"
   ],
   "outputs": [],
   "metadata": {}
  },
  {
   "cell_type": "code",
   "execution_count": 53,
   "source": [
    "dfinal"
   ],
   "outputs": [
    {
     "output_type": "execute_result",
     "data": {
      "text/plain": [
       "       Experiment  Release Subject Trial     List WordRunLength  \\\n",
       "0        MALD1_sR    MALD1   15292   307  words38             1   \n",
       "1        MALD1_sR    MALD1   16016   361  words38             1   \n",
       "2        MALD1_sR    MALD1   16046   612  words38             1   \n",
       "3        MALD1_sR    MALD1   16249   744  words38             2   \n",
       "4      MALD1.1_sR  MALD1.1  181158   585       38             2   \n",
       "...           ...      ...     ...   ...      ...           ...   \n",
       "83724    MALD1_sR    MALD1   16792   298  words64             1   \n",
       "83725  MALD1.1_sR  MALD1.1  181245   612       64             1   \n",
       "83726  MALD1.1_sR  MALD1.1  190091   589       64             3   \n",
       "83727  MALD1.1_sR  MALD1.1  190243   557       64             1   \n",
       "83728  MALD1.1_sR  MALD1.1  190636   246       64             1   \n",
       "\n",
       "      ExperimentRunID        Item    RT   ACC  ... NumSylls NumPhones  \\\n",
       "0            15292_38  admissions   917  TRUE  ...        3         8   \n",
       "1           16016_105  admissions   618  TRUE  ...        3         8   \n",
       "2            16046_38  admissions   794  TRUE  ...        3         8   \n",
       "3           16249_105  admissions   815  TRUE  ...        3         8   \n",
       "4           181158_38  admissions  1078  TRUE  ...        3         8   \n",
       "...               ...         ...   ...   ...  ...      ...       ...   \n",
       "83724        16792_64     yelling   842  TRUE  ...        2         5   \n",
       "83725       181245_64     yelling   819  TRUE  ...        2         5   \n",
       "83726      190091_131     yelling   703  TRUE  ...        2         5   \n",
       "83727      190243_131     yelling   828  TRUE  ...        2         5   \n",
       "83728       190636_64     yelling   864  TRUE  ...        2         5   \n",
       "\n",
       "      Duration PhonND FreqSUBTLEX FreqCOCA FreqCOCAspok FreqGoogle PhonUP  \\\n",
       "0          668      3         111     1714          250   12907686      8   \n",
       "1          668      3         111     1714          250   12907686      8   \n",
       "2          668      3         111     1714          250   12907686      8   \n",
       "3          668      3         111     1714          250   12907686      8   \n",
       "4          668      3         111     1714          250   12907686      8   \n",
       "...        ...    ...         ...      ...          ...        ...    ...   \n",
       "83724      408     26        1087     2713          652    1395556      5   \n",
       "83725      408     26        1087     2713          652    1395556      5   \n",
       "83726      408     26        1087     2713          652    1395556      5   \n",
       "83727      408     26        1087     2713          652    1395556      5   \n",
       "83728      408     26        1087     2713          652    1395556      5   \n",
       "\n",
       "           Dbet  \n",
       "0      ^dmIS^nz  \n",
       "1      ^dmIS^nz  \n",
       "2      ^dmIS^nz  \n",
       "3      ^dmIS^nz  \n",
       "4      ^dmIS^nz  \n",
       "...         ...  \n",
       "83724     yElIN  \n",
       "83725     yElIN  \n",
       "83726     yElIN  \n",
       "83727     yElIN  \n",
       "83728     yElIN  \n",
       "\n",
       "[83729 rows x 25 columns]"
      ],
      "text/html": [
       "<div>\n",
       "<style scoped>\n",
       "    .dataframe tbody tr th:only-of-type {\n",
       "        vertical-align: middle;\n",
       "    }\n",
       "\n",
       "    .dataframe tbody tr th {\n",
       "        vertical-align: top;\n",
       "    }\n",
       "\n",
       "    .dataframe thead th {\n",
       "        text-align: right;\n",
       "    }\n",
       "</style>\n",
       "<table border=\"1\" class=\"dataframe\">\n",
       "  <thead>\n",
       "    <tr style=\"text-align: right;\">\n",
       "      <th></th>\n",
       "      <th>Experiment</th>\n",
       "      <th>Release</th>\n",
       "      <th>Subject</th>\n",
       "      <th>Trial</th>\n",
       "      <th>List</th>\n",
       "      <th>WordRunLength</th>\n",
       "      <th>ExperimentRunID</th>\n",
       "      <th>Item</th>\n",
       "      <th>RT</th>\n",
       "      <th>ACC</th>\n",
       "      <th>...</th>\n",
       "      <th>NumSylls</th>\n",
       "      <th>NumPhones</th>\n",
       "      <th>Duration</th>\n",
       "      <th>PhonND</th>\n",
       "      <th>FreqSUBTLEX</th>\n",
       "      <th>FreqCOCA</th>\n",
       "      <th>FreqCOCAspok</th>\n",
       "      <th>FreqGoogle</th>\n",
       "      <th>PhonUP</th>\n",
       "      <th>Dbet</th>\n",
       "    </tr>\n",
       "  </thead>\n",
       "  <tbody>\n",
       "    <tr>\n",
       "      <th>0</th>\n",
       "      <td>MALD1_sR</td>\n",
       "      <td>MALD1</td>\n",
       "      <td>15292</td>\n",
       "      <td>307</td>\n",
       "      <td>words38</td>\n",
       "      <td>1</td>\n",
       "      <td>15292_38</td>\n",
       "      <td>admissions</td>\n",
       "      <td>917</td>\n",
       "      <td>TRUE</td>\n",
       "      <td>...</td>\n",
       "      <td>3</td>\n",
       "      <td>8</td>\n",
       "      <td>668</td>\n",
       "      <td>3</td>\n",
       "      <td>111</td>\n",
       "      <td>1714</td>\n",
       "      <td>250</td>\n",
       "      <td>12907686</td>\n",
       "      <td>8</td>\n",
       "      <td>^dmIS^nz</td>\n",
       "    </tr>\n",
       "    <tr>\n",
       "      <th>1</th>\n",
       "      <td>MALD1_sR</td>\n",
       "      <td>MALD1</td>\n",
       "      <td>16016</td>\n",
       "      <td>361</td>\n",
       "      <td>words38</td>\n",
       "      <td>1</td>\n",
       "      <td>16016_105</td>\n",
       "      <td>admissions</td>\n",
       "      <td>618</td>\n",
       "      <td>TRUE</td>\n",
       "      <td>...</td>\n",
       "      <td>3</td>\n",
       "      <td>8</td>\n",
       "      <td>668</td>\n",
       "      <td>3</td>\n",
       "      <td>111</td>\n",
       "      <td>1714</td>\n",
       "      <td>250</td>\n",
       "      <td>12907686</td>\n",
       "      <td>8</td>\n",
       "      <td>^dmIS^nz</td>\n",
       "    </tr>\n",
       "    <tr>\n",
       "      <th>2</th>\n",
       "      <td>MALD1_sR</td>\n",
       "      <td>MALD1</td>\n",
       "      <td>16046</td>\n",
       "      <td>612</td>\n",
       "      <td>words38</td>\n",
       "      <td>1</td>\n",
       "      <td>16046_38</td>\n",
       "      <td>admissions</td>\n",
       "      <td>794</td>\n",
       "      <td>TRUE</td>\n",
       "      <td>...</td>\n",
       "      <td>3</td>\n",
       "      <td>8</td>\n",
       "      <td>668</td>\n",
       "      <td>3</td>\n",
       "      <td>111</td>\n",
       "      <td>1714</td>\n",
       "      <td>250</td>\n",
       "      <td>12907686</td>\n",
       "      <td>8</td>\n",
       "      <td>^dmIS^nz</td>\n",
       "    </tr>\n",
       "    <tr>\n",
       "      <th>3</th>\n",
       "      <td>MALD1_sR</td>\n",
       "      <td>MALD1</td>\n",
       "      <td>16249</td>\n",
       "      <td>744</td>\n",
       "      <td>words38</td>\n",
       "      <td>2</td>\n",
       "      <td>16249_105</td>\n",
       "      <td>admissions</td>\n",
       "      <td>815</td>\n",
       "      <td>TRUE</td>\n",
       "      <td>...</td>\n",
       "      <td>3</td>\n",
       "      <td>8</td>\n",
       "      <td>668</td>\n",
       "      <td>3</td>\n",
       "      <td>111</td>\n",
       "      <td>1714</td>\n",
       "      <td>250</td>\n",
       "      <td>12907686</td>\n",
       "      <td>8</td>\n",
       "      <td>^dmIS^nz</td>\n",
       "    </tr>\n",
       "    <tr>\n",
       "      <th>4</th>\n",
       "      <td>MALD1.1_sR</td>\n",
       "      <td>MALD1.1</td>\n",
       "      <td>181158</td>\n",
       "      <td>585</td>\n",
       "      <td>38</td>\n",
       "      <td>2</td>\n",
       "      <td>181158_38</td>\n",
       "      <td>admissions</td>\n",
       "      <td>1078</td>\n",
       "      <td>TRUE</td>\n",
       "      <td>...</td>\n",
       "      <td>3</td>\n",
       "      <td>8</td>\n",
       "      <td>668</td>\n",
       "      <td>3</td>\n",
       "      <td>111</td>\n",
       "      <td>1714</td>\n",
       "      <td>250</td>\n",
       "      <td>12907686</td>\n",
       "      <td>8</td>\n",
       "      <td>^dmIS^nz</td>\n",
       "    </tr>\n",
       "    <tr>\n",
       "      <th>...</th>\n",
       "      <td>...</td>\n",
       "      <td>...</td>\n",
       "      <td>...</td>\n",
       "      <td>...</td>\n",
       "      <td>...</td>\n",
       "      <td>...</td>\n",
       "      <td>...</td>\n",
       "      <td>...</td>\n",
       "      <td>...</td>\n",
       "      <td>...</td>\n",
       "      <td>...</td>\n",
       "      <td>...</td>\n",
       "      <td>...</td>\n",
       "      <td>...</td>\n",
       "      <td>...</td>\n",
       "      <td>...</td>\n",
       "      <td>...</td>\n",
       "      <td>...</td>\n",
       "      <td>...</td>\n",
       "      <td>...</td>\n",
       "      <td>...</td>\n",
       "    </tr>\n",
       "    <tr>\n",
       "      <th>83724</th>\n",
       "      <td>MALD1_sR</td>\n",
       "      <td>MALD1</td>\n",
       "      <td>16792</td>\n",
       "      <td>298</td>\n",
       "      <td>words64</td>\n",
       "      <td>1</td>\n",
       "      <td>16792_64</td>\n",
       "      <td>yelling</td>\n",
       "      <td>842</td>\n",
       "      <td>TRUE</td>\n",
       "      <td>...</td>\n",
       "      <td>2</td>\n",
       "      <td>5</td>\n",
       "      <td>408</td>\n",
       "      <td>26</td>\n",
       "      <td>1087</td>\n",
       "      <td>2713</td>\n",
       "      <td>652</td>\n",
       "      <td>1395556</td>\n",
       "      <td>5</td>\n",
       "      <td>yElIN</td>\n",
       "    </tr>\n",
       "    <tr>\n",
       "      <th>83725</th>\n",
       "      <td>MALD1.1_sR</td>\n",
       "      <td>MALD1.1</td>\n",
       "      <td>181245</td>\n",
       "      <td>612</td>\n",
       "      <td>64</td>\n",
       "      <td>1</td>\n",
       "      <td>181245_64</td>\n",
       "      <td>yelling</td>\n",
       "      <td>819</td>\n",
       "      <td>TRUE</td>\n",
       "      <td>...</td>\n",
       "      <td>2</td>\n",
       "      <td>5</td>\n",
       "      <td>408</td>\n",
       "      <td>26</td>\n",
       "      <td>1087</td>\n",
       "      <td>2713</td>\n",
       "      <td>652</td>\n",
       "      <td>1395556</td>\n",
       "      <td>5</td>\n",
       "      <td>yElIN</td>\n",
       "    </tr>\n",
       "    <tr>\n",
       "      <th>83726</th>\n",
       "      <td>MALD1.1_sR</td>\n",
       "      <td>MALD1.1</td>\n",
       "      <td>190091</td>\n",
       "      <td>589</td>\n",
       "      <td>64</td>\n",
       "      <td>3</td>\n",
       "      <td>190091_131</td>\n",
       "      <td>yelling</td>\n",
       "      <td>703</td>\n",
       "      <td>TRUE</td>\n",
       "      <td>...</td>\n",
       "      <td>2</td>\n",
       "      <td>5</td>\n",
       "      <td>408</td>\n",
       "      <td>26</td>\n",
       "      <td>1087</td>\n",
       "      <td>2713</td>\n",
       "      <td>652</td>\n",
       "      <td>1395556</td>\n",
       "      <td>5</td>\n",
       "      <td>yElIN</td>\n",
       "    </tr>\n",
       "    <tr>\n",
       "      <th>83727</th>\n",
       "      <td>MALD1.1_sR</td>\n",
       "      <td>MALD1.1</td>\n",
       "      <td>190243</td>\n",
       "      <td>557</td>\n",
       "      <td>64</td>\n",
       "      <td>1</td>\n",
       "      <td>190243_131</td>\n",
       "      <td>yelling</td>\n",
       "      <td>828</td>\n",
       "      <td>TRUE</td>\n",
       "      <td>...</td>\n",
       "      <td>2</td>\n",
       "      <td>5</td>\n",
       "      <td>408</td>\n",
       "      <td>26</td>\n",
       "      <td>1087</td>\n",
       "      <td>2713</td>\n",
       "      <td>652</td>\n",
       "      <td>1395556</td>\n",
       "      <td>5</td>\n",
       "      <td>yElIN</td>\n",
       "    </tr>\n",
       "    <tr>\n",
       "      <th>83728</th>\n",
       "      <td>MALD1.1_sR</td>\n",
       "      <td>MALD1.1</td>\n",
       "      <td>190636</td>\n",
       "      <td>246</td>\n",
       "      <td>64</td>\n",
       "      <td>1</td>\n",
       "      <td>190636_64</td>\n",
       "      <td>yelling</td>\n",
       "      <td>864</td>\n",
       "      <td>TRUE</td>\n",
       "      <td>...</td>\n",
       "      <td>2</td>\n",
       "      <td>5</td>\n",
       "      <td>408</td>\n",
       "      <td>26</td>\n",
       "      <td>1087</td>\n",
       "      <td>2713</td>\n",
       "      <td>652</td>\n",
       "      <td>1395556</td>\n",
       "      <td>5</td>\n",
       "      <td>yElIN</td>\n",
       "    </tr>\n",
       "  </tbody>\n",
       "</table>\n",
       "<p>83729 rows × 25 columns</p>\n",
       "</div>"
      ]
     },
     "metadata": {},
     "execution_count": 53
    }
   ],
   "metadata": {}
  },
  {
   "cell_type": "code",
   "execution_count": 54,
   "source": [
    "dfinal_corr = dfinal[dfinal['ACC']=='TRUE']"
   ],
   "outputs": [],
   "metadata": {}
  },
  {
   "cell_type": "code",
   "execution_count": 56,
   "source": [
    "dfinal_corr.to_csv('responses_processed_corr.csv',index=False)"
   ],
   "outputs": [],
   "metadata": {}
  },
  {
   "cell_type": "code",
   "execution_count": 57,
   "source": [
    "aelp_f = pd.read_csv('AELP_F.csv',dtype=\"string\")\n",
    "aelp_m = pd.read_csv('AELP_M.csv',dtype='string')"
   ],
   "outputs": [],
   "metadata": {}
  },
  {
   "cell_type": "code",
   "execution_count": 58,
   "source": [
    "aelp_f"
   ],
   "outputs": [
    {
     "output_type": "execute_result",
     "data": {
      "text/plain": [
       "       Talker\\tList\\tSubjectID\\tSessionNo\\tTrialNo\\tItem\\tItemType\\tRespACC\\tRT\\tzRT\\tDur\\tRTmDur\\tzRTmDur\\tkeep\n",
       "0       F2\t1\t78\t1\t1\tdiromaur\t0\t1\t1185\t0.559219476\t801....                                                       \n",
       "1       F2\t1\t78\t1\t2\tdomfrin\t0\t1\t1040\t0.006365514\t880.4...                                                       \n",
       "2       F2\t1\t78\t1\t3\trectal\t1\t1\t1210\t0.654539125\t641.51...                                                       \n",
       "3       F2\t1\t78\t1\t4\tdreaming\t1\t1\t1075\t0.139813022\t879....                                                       \n",
       "4       F2\t1\t78\t1\t5\tsensianny\t0\t1\t1281\t0.925246927\t878...                                                       \n",
       "...                                                   ...                                                       \n",
       "676639  F2\t14\t178\t5\t1352\telectramogner\t0\t1\t1125\t-0.211...                                                       \n",
       "676640  F2\t14\t178\t5\t1353\tdoos\t0\t1\t1253\t0.160213986\t692...                                                       \n",
       "676641  F2\t14\t178\t5\t1354\tregional\t1\t1\t1025\t-0.50272341...                                                       \n",
       "676642  F2\t14\t178\t5\t1355\tunintentional\t1\t1\t1103\t-0.275...                                                       \n",
       "676643  F2\t14\t178\t5\t1356\tfoost\t0\t1\t1159\t-0.11310231\t98...                                                       \n",
       "\n",
       "[676644 rows x 1 columns]"
      ],
      "text/html": [
       "<div>\n",
       "<style scoped>\n",
       "    .dataframe tbody tr th:only-of-type {\n",
       "        vertical-align: middle;\n",
       "    }\n",
       "\n",
       "    .dataframe tbody tr th {\n",
       "        vertical-align: top;\n",
       "    }\n",
       "\n",
       "    .dataframe thead th {\n",
       "        text-align: right;\n",
       "    }\n",
       "</style>\n",
       "<table border=\"1\" class=\"dataframe\">\n",
       "  <thead>\n",
       "    <tr style=\"text-align: right;\">\n",
       "      <th></th>\n",
       "      <th>Talker\\tList\\tSubjectID\\tSessionNo\\tTrialNo\\tItem\\tItemType\\tRespACC\\tRT\\tzRT\\tDur\\tRTmDur\\tzRTmDur\\tkeep</th>\n",
       "    </tr>\n",
       "  </thead>\n",
       "  <tbody>\n",
       "    <tr>\n",
       "      <th>0</th>\n",
       "      <td>F2\t1\t78\t1\t1\tdiromaur\t0\t1\t1185\t0.559219476\t801....</td>\n",
       "    </tr>\n",
       "    <tr>\n",
       "      <th>1</th>\n",
       "      <td>F2\t1\t78\t1\t2\tdomfrin\t0\t1\t1040\t0.006365514\t880.4...</td>\n",
       "    </tr>\n",
       "    <tr>\n",
       "      <th>2</th>\n",
       "      <td>F2\t1\t78\t1\t3\trectal\t1\t1\t1210\t0.654539125\t641.51...</td>\n",
       "    </tr>\n",
       "    <tr>\n",
       "      <th>3</th>\n",
       "      <td>F2\t1\t78\t1\t4\tdreaming\t1\t1\t1075\t0.139813022\t879....</td>\n",
       "    </tr>\n",
       "    <tr>\n",
       "      <th>4</th>\n",
       "      <td>F2\t1\t78\t1\t5\tsensianny\t0\t1\t1281\t0.925246927\t878...</td>\n",
       "    </tr>\n",
       "    <tr>\n",
       "      <th>...</th>\n",
       "      <td>...</td>\n",
       "    </tr>\n",
       "    <tr>\n",
       "      <th>676639</th>\n",
       "      <td>F2\t14\t178\t5\t1352\telectramogner\t0\t1\t1125\t-0.211...</td>\n",
       "    </tr>\n",
       "    <tr>\n",
       "      <th>676640</th>\n",
       "      <td>F2\t14\t178\t5\t1353\tdoos\t0\t1\t1253\t0.160213986\t692...</td>\n",
       "    </tr>\n",
       "    <tr>\n",
       "      <th>676641</th>\n",
       "      <td>F2\t14\t178\t5\t1354\tregional\t1\t1\t1025\t-0.50272341...</td>\n",
       "    </tr>\n",
       "    <tr>\n",
       "      <th>676642</th>\n",
       "      <td>F2\t14\t178\t5\t1355\tunintentional\t1\t1\t1103\t-0.275...</td>\n",
       "    </tr>\n",
       "    <tr>\n",
       "      <th>676643</th>\n",
       "      <td>F2\t14\t178\t5\t1356\tfoost\t0\t1\t1159\t-0.11310231\t98...</td>\n",
       "    </tr>\n",
       "  </tbody>\n",
       "</table>\n",
       "<p>676644 rows × 1 columns</p>\n",
       "</div>"
      ]
     },
     "metadata": {},
     "execution_count": 58
    }
   ],
   "metadata": {}
  },
  {
   "cell_type": "code",
   "execution_count": 9,
   "source": [
    "replace_idx = replace_node['idx'].tolist()\n",
    "delins_idx = delins_node['idx'].tolist()\n",
    "l50_idx = l50_node['idx'].tolist()\n",
    "m50_idx = m50_node['idx'].tolist()"
   ],
   "outputs": [],
   "metadata": {}
  },
  {
   "cell_type": "code",
   "execution_count": 10,
   "source": [
    "rd_idx = intersection(replace_idx,delins_idx)\n",
    "lm_idx = intersection(l50_idx,m50_idx)\n",
    "rdml_idx = intersection(rd_idx,lm_idx)\n",
    "intersection_idx = intersection(rdml_idx,all_idx)"
   ],
   "outputs": [],
   "metadata": {}
  },
  {
   "cell_type": "code",
   "execution_count": 11,
   "source": [
    "len(intersection_idx)"
   ],
   "outputs": [
    {
     "output_type": "execute_result",
     "data": {
      "text/plain": [
       "4183"
      ]
     },
     "metadata": {},
     "execution_count": 11
    }
   ],
   "metadata": {}
  },
  {
   "cell_type": "code",
   "execution_count": 12,
   "source": [
    "all_degree"
   ],
   "outputs": [
    {
     "output_type": "execute_result",
     "data": {
      "text/plain": [
       "        idx degree\n",
       "0         1      7\n",
       "1         3      3\n",
       "2         6      1\n",
       "3         8      4\n",
       "4         9      2\n",
       "...     ...    ...\n",
       "9070  19324     17\n",
       "9071  19325      3\n",
       "9072  19326     20\n",
       "9073  19328      1\n",
       "9074  19332      8\n",
       "\n",
       "[9075 rows x 2 columns]"
      ],
      "text/html": [
       "<div>\n",
       "<style scoped>\n",
       "    .dataframe tbody tr th:only-of-type {\n",
       "        vertical-align: middle;\n",
       "    }\n",
       "\n",
       "    .dataframe tbody tr th {\n",
       "        vertical-align: top;\n",
       "    }\n",
       "\n",
       "    .dataframe thead th {\n",
       "        text-align: right;\n",
       "    }\n",
       "</style>\n",
       "<table border=\"1\" class=\"dataframe\">\n",
       "  <thead>\n",
       "    <tr style=\"text-align: right;\">\n",
       "      <th></th>\n",
       "      <th>idx</th>\n",
       "      <th>degree</th>\n",
       "    </tr>\n",
       "  </thead>\n",
       "  <tbody>\n",
       "    <tr>\n",
       "      <th>0</th>\n",
       "      <td>1</td>\n",
       "      <td>7</td>\n",
       "    </tr>\n",
       "    <tr>\n",
       "      <th>1</th>\n",
       "      <td>3</td>\n",
       "      <td>3</td>\n",
       "    </tr>\n",
       "    <tr>\n",
       "      <th>2</th>\n",
       "      <td>6</td>\n",
       "      <td>1</td>\n",
       "    </tr>\n",
       "    <tr>\n",
       "      <th>3</th>\n",
       "      <td>8</td>\n",
       "      <td>4</td>\n",
       "    </tr>\n",
       "    <tr>\n",
       "      <th>4</th>\n",
       "      <td>9</td>\n",
       "      <td>2</td>\n",
       "    </tr>\n",
       "    <tr>\n",
       "      <th>...</th>\n",
       "      <td>...</td>\n",
       "      <td>...</td>\n",
       "    </tr>\n",
       "    <tr>\n",
       "      <th>9070</th>\n",
       "      <td>19324</td>\n",
       "      <td>17</td>\n",
       "    </tr>\n",
       "    <tr>\n",
       "      <th>9071</th>\n",
       "      <td>19325</td>\n",
       "      <td>3</td>\n",
       "    </tr>\n",
       "    <tr>\n",
       "      <th>9072</th>\n",
       "      <td>19326</td>\n",
       "      <td>20</td>\n",
       "    </tr>\n",
       "    <tr>\n",
       "      <th>9073</th>\n",
       "      <td>19328</td>\n",
       "      <td>1</td>\n",
       "    </tr>\n",
       "    <tr>\n",
       "      <th>9074</th>\n",
       "      <td>19332</td>\n",
       "      <td>8</td>\n",
       "    </tr>\n",
       "  </tbody>\n",
       "</table>\n",
       "<p>9075 rows × 2 columns</p>\n",
       "</div>"
      ]
     },
     "metadata": {},
     "execution_count": 12
    }
   ],
   "metadata": {}
  },
  {
   "cell_type": "code",
   "execution_count": 13,
   "source": [
    "all_degree.loc[all_degree.idx == '1','degree'].values[0]"
   ],
   "outputs": [
    {
     "output_type": "execute_result",
     "data": {
      "text/plain": [
       "'7'"
      ]
     },
     "metadata": {},
     "execution_count": 13
    }
   ],
   "metadata": {}
  },
  {
   "cell_type": "code",
   "execution_count": 14,
   "source": [
    "all_node"
   ],
   "outputs": [
    {
     "output_type": "execute_result",
     "data": {
      "text/plain": [
       "        idx   name    ortho    phono\n",
       "0         1      1        a        x\n",
       "1         3      3    aback     xb@k\n",
       "2         6      6  abalone  @bxloni\n",
       "3         8      8    abase     xbes\n",
       "4         9      9    abash     xb@S\n",
       "...     ...    ...      ...      ...\n",
       "9070  19324  19324     zone      zon\n",
       "9071  19325  19325    zoned     zond\n",
       "9072  19326  19326      zoo       zu\n",
       "9073  19328  19328    zooid     zoOd\n",
       "9074  19332  19332     zoom      zum\n",
       "\n",
       "[9075 rows x 4 columns]"
      ],
      "text/html": [
       "<div>\n",
       "<style scoped>\n",
       "    .dataframe tbody tr th:only-of-type {\n",
       "        vertical-align: middle;\n",
       "    }\n",
       "\n",
       "    .dataframe tbody tr th {\n",
       "        vertical-align: top;\n",
       "    }\n",
       "\n",
       "    .dataframe thead th {\n",
       "        text-align: right;\n",
       "    }\n",
       "</style>\n",
       "<table border=\"1\" class=\"dataframe\">\n",
       "  <thead>\n",
       "    <tr style=\"text-align: right;\">\n",
       "      <th></th>\n",
       "      <th>idx</th>\n",
       "      <th>name</th>\n",
       "      <th>ortho</th>\n",
       "      <th>phono</th>\n",
       "    </tr>\n",
       "  </thead>\n",
       "  <tbody>\n",
       "    <tr>\n",
       "      <th>0</th>\n",
       "      <td>1</td>\n",
       "      <td>1</td>\n",
       "      <td>a</td>\n",
       "      <td>x</td>\n",
       "    </tr>\n",
       "    <tr>\n",
       "      <th>1</th>\n",
       "      <td>3</td>\n",
       "      <td>3</td>\n",
       "      <td>aback</td>\n",
       "      <td>xb@k</td>\n",
       "    </tr>\n",
       "    <tr>\n",
       "      <th>2</th>\n",
       "      <td>6</td>\n",
       "      <td>6</td>\n",
       "      <td>abalone</td>\n",
       "      <td>@bxloni</td>\n",
       "    </tr>\n",
       "    <tr>\n",
       "      <th>3</th>\n",
       "      <td>8</td>\n",
       "      <td>8</td>\n",
       "      <td>abase</td>\n",
       "      <td>xbes</td>\n",
       "    </tr>\n",
       "    <tr>\n",
       "      <th>4</th>\n",
       "      <td>9</td>\n",
       "      <td>9</td>\n",
       "      <td>abash</td>\n",
       "      <td>xb@S</td>\n",
       "    </tr>\n",
       "    <tr>\n",
       "      <th>...</th>\n",
       "      <td>...</td>\n",
       "      <td>...</td>\n",
       "      <td>...</td>\n",
       "      <td>...</td>\n",
       "    </tr>\n",
       "    <tr>\n",
       "      <th>9070</th>\n",
       "      <td>19324</td>\n",
       "      <td>19324</td>\n",
       "      <td>zone</td>\n",
       "      <td>zon</td>\n",
       "    </tr>\n",
       "    <tr>\n",
       "      <th>9071</th>\n",
       "      <td>19325</td>\n",
       "      <td>19325</td>\n",
       "      <td>zoned</td>\n",
       "      <td>zond</td>\n",
       "    </tr>\n",
       "    <tr>\n",
       "      <th>9072</th>\n",
       "      <td>19326</td>\n",
       "      <td>19326</td>\n",
       "      <td>zoo</td>\n",
       "      <td>zu</td>\n",
       "    </tr>\n",
       "    <tr>\n",
       "      <th>9073</th>\n",
       "      <td>19328</td>\n",
       "      <td>19328</td>\n",
       "      <td>zooid</td>\n",
       "      <td>zoOd</td>\n",
       "    </tr>\n",
       "    <tr>\n",
       "      <th>9074</th>\n",
       "      <td>19332</td>\n",
       "      <td>19332</td>\n",
       "      <td>zoom</td>\n",
       "      <td>zum</td>\n",
       "    </tr>\n",
       "  </tbody>\n",
       "</table>\n",
       "<p>9075 rows × 4 columns</p>\n",
       "</div>"
      ]
     },
     "metadata": {},
     "execution_count": 14
    }
   ],
   "metadata": {}
  },
  {
   "cell_type": "code",
   "execution_count": 21,
   "source": [
    "all_node.loc[all_node.idx == '19328','ortho'].values[0]"
   ],
   "outputs": [
    {
     "output_type": "execute_result",
     "data": {
      "text/plain": [
       "'zooid'"
      ]
     },
     "metadata": {},
     "execution_count": 21
    }
   ],
   "metadata": {}
  },
  {
   "cell_type": "code",
   "execution_count": 22,
   "source": [
    "degrees = []\n",
    "for i in intersection_idx:\n",
    "    d = []\n",
    "    d.append(i)\n",
    "    ortho = all_node.loc[all_node.idx == i,'ortho'].values[0]\n",
    "    phono = all_node.loc[all_node.idx == i,'phono'].values[0]\n",
    "    d.append(ortho)\n",
    "    d.append(phono)\n",
    "    all_d = all_degree.loc[all_degree.idx == i,'degree'].values[0]\n",
    "    replace_d = replace_degree.loc[replace_degree.idx == i,'degree'].values[0]\n",
    "    delins_d = delins_degree.loc[delins_degree.idx == i,'degree'].values[0]\n",
    "    l50_d = l50_degree.loc[l50_degree.idx == i,'degree'].values[0]\n",
    "    m50_d = m50_degree.loc[m50_degree.idx == i,'degree'].values[0]\n",
    "    d.append(all_d)\n",
    "    d.append(replace_d)\n",
    "    d.append(delins_d)\n",
    "    d.append(l50_d)\n",
    "    d.append(m50_d)\n",
    "    degrees.append(d)"
   ],
   "outputs": [],
   "metadata": {}
  },
  {
   "cell_type": "code",
   "execution_count": 27,
   "source": [
    "degrees_pd = pd.DataFrame(degrees,columns = ['idx','ortho','phono','all','replace','delete_insert','pos_l50','pos_m50'])"
   ],
   "outputs": [],
   "metadata": {}
  },
  {
   "cell_type": "code",
   "execution_count": 29,
   "source": [
    "degrees_pd.to_csv('degrees.csv',index=False)"
   ],
   "outputs": [],
   "metadata": {}
  },
  {
   "cell_type": "code",
   "execution_count": 33,
   "source": [
    "degrees_pd"
   ],
   "outputs": [
    {
     "output_type": "execute_result",
     "data": {
      "text/plain": [
       "        idx   ortho phono all replace delete_insert pos_l50 pos_m50\n",
       "0      1949    blot  blat  14      11             3       6       8\n",
       "1     19157   wooly  wUli   6       5             1       4       2\n",
       "2      7393  grease  gris  14      12             2       2      12\n",
       "3     18755    wain   wen  29      26             3      21       8\n",
       "4     16802    sway   swe   9       4             5       5       4\n",
       "...     ...     ...   ...  ..     ...           ...     ...     ...\n",
       "4178   4388     dab   d@b  14      12             2      10       4\n",
       "4179  15842   slung  sl^G  14      11             3       6       8\n",
       "4180   2328     bur    bR  22      14             8       8      14\n",
       "4181   2845    cent  sEnt  22      16             6      13       9\n",
       "4182   2464   calla  k@lx   7       4             3       3       4\n",
       "\n",
       "[4183 rows x 8 columns]"
      ],
      "text/html": [
       "<div>\n",
       "<style scoped>\n",
       "    .dataframe tbody tr th:only-of-type {\n",
       "        vertical-align: middle;\n",
       "    }\n",
       "\n",
       "    .dataframe tbody tr th {\n",
       "        vertical-align: top;\n",
       "    }\n",
       "\n",
       "    .dataframe thead th {\n",
       "        text-align: right;\n",
       "    }\n",
       "</style>\n",
       "<table border=\"1\" class=\"dataframe\">\n",
       "  <thead>\n",
       "    <tr style=\"text-align: right;\">\n",
       "      <th></th>\n",
       "      <th>idx</th>\n",
       "      <th>ortho</th>\n",
       "      <th>phono</th>\n",
       "      <th>all</th>\n",
       "      <th>replace</th>\n",
       "      <th>delete_insert</th>\n",
       "      <th>pos_l50</th>\n",
       "      <th>pos_m50</th>\n",
       "    </tr>\n",
       "  </thead>\n",
       "  <tbody>\n",
       "    <tr>\n",
       "      <th>0</th>\n",
       "      <td>1949</td>\n",
       "      <td>blot</td>\n",
       "      <td>blat</td>\n",
       "      <td>14</td>\n",
       "      <td>11</td>\n",
       "      <td>3</td>\n",
       "      <td>6</td>\n",
       "      <td>8</td>\n",
       "    </tr>\n",
       "    <tr>\n",
       "      <th>1</th>\n",
       "      <td>19157</td>\n",
       "      <td>wooly</td>\n",
       "      <td>wUli</td>\n",
       "      <td>6</td>\n",
       "      <td>5</td>\n",
       "      <td>1</td>\n",
       "      <td>4</td>\n",
       "      <td>2</td>\n",
       "    </tr>\n",
       "    <tr>\n",
       "      <th>2</th>\n",
       "      <td>7393</td>\n",
       "      <td>grease</td>\n",
       "      <td>gris</td>\n",
       "      <td>14</td>\n",
       "      <td>12</td>\n",
       "      <td>2</td>\n",
       "      <td>2</td>\n",
       "      <td>12</td>\n",
       "    </tr>\n",
       "    <tr>\n",
       "      <th>3</th>\n",
       "      <td>18755</td>\n",
       "      <td>wain</td>\n",
       "      <td>wen</td>\n",
       "      <td>29</td>\n",
       "      <td>26</td>\n",
       "      <td>3</td>\n",
       "      <td>21</td>\n",
       "      <td>8</td>\n",
       "    </tr>\n",
       "    <tr>\n",
       "      <th>4</th>\n",
       "      <td>16802</td>\n",
       "      <td>sway</td>\n",
       "      <td>swe</td>\n",
       "      <td>9</td>\n",
       "      <td>4</td>\n",
       "      <td>5</td>\n",
       "      <td>5</td>\n",
       "      <td>4</td>\n",
       "    </tr>\n",
       "    <tr>\n",
       "      <th>...</th>\n",
       "      <td>...</td>\n",
       "      <td>...</td>\n",
       "      <td>...</td>\n",
       "      <td>...</td>\n",
       "      <td>...</td>\n",
       "      <td>...</td>\n",
       "      <td>...</td>\n",
       "      <td>...</td>\n",
       "    </tr>\n",
       "    <tr>\n",
       "      <th>4178</th>\n",
       "      <td>4388</td>\n",
       "      <td>dab</td>\n",
       "      <td>d@b</td>\n",
       "      <td>14</td>\n",
       "      <td>12</td>\n",
       "      <td>2</td>\n",
       "      <td>10</td>\n",
       "      <td>4</td>\n",
       "    </tr>\n",
       "    <tr>\n",
       "      <th>4179</th>\n",
       "      <td>15842</td>\n",
       "      <td>slung</td>\n",
       "      <td>sl^G</td>\n",
       "      <td>14</td>\n",
       "      <td>11</td>\n",
       "      <td>3</td>\n",
       "      <td>6</td>\n",
       "      <td>8</td>\n",
       "    </tr>\n",
       "    <tr>\n",
       "      <th>4180</th>\n",
       "      <td>2328</td>\n",
       "      <td>bur</td>\n",
       "      <td>bR</td>\n",
       "      <td>22</td>\n",
       "      <td>14</td>\n",
       "      <td>8</td>\n",
       "      <td>8</td>\n",
       "      <td>14</td>\n",
       "    </tr>\n",
       "    <tr>\n",
       "      <th>4181</th>\n",
       "      <td>2845</td>\n",
       "      <td>cent</td>\n",
       "      <td>sEnt</td>\n",
       "      <td>22</td>\n",
       "      <td>16</td>\n",
       "      <td>6</td>\n",
       "      <td>13</td>\n",
       "      <td>9</td>\n",
       "    </tr>\n",
       "    <tr>\n",
       "      <th>4182</th>\n",
       "      <td>2464</td>\n",
       "      <td>calla</td>\n",
       "      <td>k@lx</td>\n",
       "      <td>7</td>\n",
       "      <td>4</td>\n",
       "      <td>3</td>\n",
       "      <td>3</td>\n",
       "      <td>4</td>\n",
       "    </tr>\n",
       "  </tbody>\n",
       "</table>\n",
       "<p>4183 rows × 8 columns</p>\n",
       "</div>"
      ]
     },
     "metadata": {},
     "execution_count": 33
    }
   ],
   "metadata": {}
  },
  {
   "cell_type": "code",
   "execution_count": 4,
   "source": [
    "all_degree_list = [int(i) for i in degrees[\"original\"].tolist()]"
   ],
   "outputs": [],
   "metadata": {}
  },
  {
   "cell_type": "code",
   "execution_count": 5,
   "source": [
    "replace_degree_list = [int(i) for i in degrees[\"replace\"].tolist()]\n",
    "delins_degree_list = [int(i) for i in degrees[\"delete_insert\"].tolist()]\n",
    "l50_degree_list = [int(i) for i in degrees[\"pos_l50\"].tolist()]\n",
    "m50_degree_list = [int(i) for i in degrees[\"pos_m50\"].tolist()]"
   ],
   "outputs": [],
   "metadata": {}
  },
  {
   "cell_type": "code",
   "execution_count": 1,
   "source": [
    "import scipy.stats"
   ],
   "outputs": [],
   "metadata": {}
  },
  {
   "cell_type": "code",
   "execution_count": 9,
   "source": [
    "scipy.stats.pearsonr(all_degree_list,m50_degree_list)"
   ],
   "outputs": [
    {
     "output_type": "execute_result",
     "data": {
      "text/plain": [
       "(0.8203018798966866, 0.0)"
      ]
     },
     "metadata": {},
     "execution_count": 9
    }
   ],
   "metadata": {}
  },
  {
   "cell_type": "code",
   "execution_count": 12,
   "source": [
    "scipy.stats.pearsonr(replace_degree_list,m50_degree_list)"
   ],
   "outputs": [
    {
     "output_type": "execute_result",
     "data": {
      "text/plain": [
       "(0.7822882481771802, 0.0)"
      ]
     },
     "metadata": {},
     "execution_count": 12
    }
   ],
   "metadata": {}
  },
  {
   "cell_type": "code",
   "execution_count": 14,
   "source": [
    "scipy.stats.pearsonr(delins_degree_list,m50_degree_list)"
   ],
   "outputs": [
    {
     "output_type": "execute_result",
     "data": {
      "text/plain": [
       "(0.5819936796937106, 0.0)"
      ]
     },
     "metadata": {},
     "execution_count": 14
    }
   ],
   "metadata": {}
  },
  {
   "cell_type": "code",
   "execution_count": 16,
   "source": [
    "scipy.stats.pearsonr(l50_degree_list,m50_degree_list)"
   ],
   "outputs": [
    {
     "output_type": "execute_result",
     "data": {
      "text/plain": [
       "(0.5739563943364788, 0.0)"
      ]
     },
     "metadata": {},
     "execution_count": 16
    }
   ],
   "metadata": {}
  },
  {
   "cell_type": "code",
   "execution_count": 1,
   "source": [
    "import pandas as pd\n",
    "def intersection(lst1, lst2):\n",
    "    return list(set(lst1) & set(lst2))"
   ],
   "outputs": [],
   "metadata": {}
  },
  {
   "cell_type": "code",
   "execution_count": 8,
   "source": [
    "degrees = pd.read_csv('degrees_9075.csv',dtype=\"string\")\n",
    "mald_words = pd.read_csv('mald_words.csv',dtype=\"string\")"
   ],
   "outputs": [],
   "metadata": {}
  },
  {
   "cell_type": "code",
   "execution_count": 9,
   "source": [
    "intersection_words = intersection(degrees['lower'].tolist(),mald_words['Lower'].tolist())"
   ],
   "outputs": [],
   "metadata": {}
  },
  {
   "cell_type": "code",
   "execution_count": 10,
   "source": [
    "len(intersection_words)"
   ],
   "outputs": [
    {
     "output_type": "execute_result",
     "data": {
      "text/plain": [
       "5594"
      ]
     },
     "metadata": {},
     "execution_count": 10
    }
   ],
   "metadata": {}
  },
  {
   "cell_type": "code",
   "execution_count": 15,
   "source": [
    "l1 = open('degrees_9075.csv').read().strip().split(\"\\n\")\n",
    "l1.remove(l1[0])"
   ],
   "outputs": [],
   "metadata": {}
  },
  {
   "cell_type": "code",
   "execution_count": 16,
   "source": [
    "l1_dict = {}\n",
    "l1_keys = []\n",
    "for l in l1:\n",
    "    l = l.split(',')\n",
    "    l1_dict[l[0]] = l[1:]\n",
    "    l1_keys.append(l[0])"
   ],
   "outputs": [],
   "metadata": {}
  },
  {
   "cell_type": "code",
   "execution_count": 17,
   "source": [
    "l2 = open('mald_words.csv').read().strip().split(\"\\n\")\n",
    "l2.remove(l2[0])"
   ],
   "outputs": [],
   "metadata": {}
  },
  {
   "cell_type": "code",
   "execution_count": 18,
   "source": [
    "l2_dict = {}\n",
    "l2_keys = []\n",
    "for l in l2:\n",
    "    l = l.split(',')\n",
    "    l2_dict[l[0]] = l[1:]\n",
    "    l2_keys.append(l[0])"
   ],
   "outputs": [],
   "metadata": {}
  },
  {
   "cell_type": "code",
   "execution_count": 11,
   "source": [
    "l3 = open('subgraph_9075/intersection.csv').read().strip().split(\"\\n\")\n",
    "l3.remove(l3[0])\n",
    "l3_keys = []\n",
    "for l in l3:\n",
    "    l = l.split(',')\n",
    "    l3_keys.append(l[0])"
   ],
   "outputs": [],
   "metadata": {}
  },
  {
   "cell_type": "code",
   "execution_count": 19,
   "source": [
    "commons = intersection(l1_keys,l2_keys)"
   ],
   "outputs": [],
   "metadata": {}
  },
  {
   "cell_type": "code",
   "execution_count": 20,
   "source": [
    "len(commons)"
   ],
   "outputs": [
    {
     "output_type": "execute_result",
     "data": {
      "text/plain": [
       "5596"
      ]
     },
     "metadata": {},
     "execution_count": 20
    }
   ],
   "metadata": {}
  },
  {
   "cell_type": "code",
   "execution_count": 14,
   "source": [
    "for l in l3_keys:\n",
    "    if l not in commons:\n",
    "        print(l)"
   ],
   "outputs": [
    {
     "output_type": "stream",
     "name": "stdout",
     "text": [
      "TRUE\n",
      "FALSE\n"
     ]
    }
   ],
   "metadata": {}
  },
  {
   "cell_type": "code",
   "execution_count": 21,
   "source": [
    "commons_values  = []\n",
    "for i in commons:\n",
    "    l = []\n",
    "    l.extend(l1_dict[i])\n",
    "    l.extend(l2_dict[i])\n",
    "    commons_values.append(l)\n"
   ],
   "outputs": [],
   "metadata": {}
  },
  {
   "cell_type": "code",
   "execution_count": 74,
   "source": [
    "commons[0]"
   ],
   "outputs": [
    {
     "output_type": "execute_result",
     "data": {
      "text/plain": [
       "'eaten'"
      ]
     },
     "metadata": {},
     "execution_count": 74
    }
   ],
   "metadata": {}
  },
  {
   "cell_type": "code",
   "execution_count": 41,
   "source": [
    "commons_values  = []\n",
    "for i in commons:\n",
    "    d1=degrees.loc[degrees.lower==i].to_dict('records')[0]\n",
    "    d2=mald_words.loc[mald_words.Lower==i].to_dict('records')[0]\n",
    "    d1.update(d2)\n",
    "    commons_values.append(d1)"
   ],
   "outputs": [
    {
     "output_type": "error",
     "ename": "IndexError",
     "evalue": "list index out of range",
     "traceback": [
      "\u001b[0;31m---------------------------------------------------------------------------\u001b[0m",
      "\u001b[0;31mIndexError\u001b[0m                                Traceback (most recent call last)",
      "\u001b[0;32m<ipython-input-41-febf6c2be7f9>\u001b[0m in \u001b[0;36m<module>\u001b[0;34m\u001b[0m\n\u001b[1;32m      1\u001b[0m \u001b[0mcommons_values\u001b[0m  \u001b[0;34m=\u001b[0m \u001b[0;34m[\u001b[0m\u001b[0;34m]\u001b[0m\u001b[0;34m\u001b[0m\u001b[0;34m\u001b[0m\u001b[0m\n\u001b[1;32m      2\u001b[0m \u001b[0;32mfor\u001b[0m \u001b[0mi\u001b[0m \u001b[0;32min\u001b[0m \u001b[0mcommons\u001b[0m\u001b[0;34m:\u001b[0m\u001b[0;34m\u001b[0m\u001b[0;34m\u001b[0m\u001b[0m\n\u001b[0;32m----> 3\u001b[0;31m     \u001b[0md1\u001b[0m\u001b[0;34m=\u001b[0m\u001b[0mdegrees\u001b[0m\u001b[0;34m.\u001b[0m\u001b[0mloc\u001b[0m\u001b[0;34m[\u001b[0m\u001b[0mdegrees\u001b[0m\u001b[0;34m.\u001b[0m\u001b[0mlower\u001b[0m\u001b[0;34m==\u001b[0m\u001b[0mi\u001b[0m\u001b[0;34m]\u001b[0m\u001b[0;34m.\u001b[0m\u001b[0mto_dict\u001b[0m\u001b[0;34m(\u001b[0m\u001b[0;34m'records'\u001b[0m\u001b[0;34m)\u001b[0m\u001b[0;34m[\u001b[0m\u001b[0;36m0\u001b[0m\u001b[0;34m]\u001b[0m\u001b[0;34m\u001b[0m\u001b[0;34m\u001b[0m\u001b[0m\n\u001b[0m\u001b[1;32m      4\u001b[0m     \u001b[0md2\u001b[0m\u001b[0;34m=\u001b[0m\u001b[0mmald_words\u001b[0m\u001b[0;34m.\u001b[0m\u001b[0mloc\u001b[0m\u001b[0;34m[\u001b[0m\u001b[0mmald_words\u001b[0m\u001b[0;34m.\u001b[0m\u001b[0mLower\u001b[0m\u001b[0;34m==\u001b[0m\u001b[0mi\u001b[0m\u001b[0;34m]\u001b[0m\u001b[0;34m.\u001b[0m\u001b[0mto_dict\u001b[0m\u001b[0;34m(\u001b[0m\u001b[0;34m'records'\u001b[0m\u001b[0;34m)\u001b[0m\u001b[0;34m[\u001b[0m\u001b[0;36m0\u001b[0m\u001b[0;34m]\u001b[0m\u001b[0;34m\u001b[0m\u001b[0;34m\u001b[0m\u001b[0m\n\u001b[1;32m      5\u001b[0m     \u001b[0md1\u001b[0m\u001b[0;34m.\u001b[0m\u001b[0mupdate\u001b[0m\u001b[0;34m(\u001b[0m\u001b[0md2\u001b[0m\u001b[0;34m)\u001b[0m\u001b[0;34m\u001b[0m\u001b[0;34m\u001b[0m\u001b[0m\n",
      "\u001b[0;31mIndexError\u001b[0m: list index out of range"
     ]
    }
   ],
   "metadata": {}
  },
  {
   "cell_type": "code",
   "execution_count": 22,
   "source": [
    "commons_df = pd.DataFrame(data=commons_values)"
   ],
   "outputs": [],
   "metadata": {}
  },
  {
   "cell_type": "code",
   "execution_count": 23,
   "source": [
    "commons_df.to_csv('commons.csv',index=False)"
   ],
   "outputs": [],
   "metadata": {}
  },
  {
   "cell_type": "code",
   "execution_count": 27,
   "source": [
    "commons_df = pd.read_csv('commons.csv',dtype=\"string\")"
   ],
   "outputs": [],
   "metadata": {}
  },
  {
   "cell_type": "code",
   "execution_count": 30,
   "source": [
    "commons_df.loc[commons_df.Item==\"TRUE\"].values.flatten().tolist()"
   ],
   "outputs": [
    {
     "output_type": "execute_result",
     "data": {
      "text/plain": [
       "['TRUE',\n",
       " '17786',\n",
       " 'TRUE',\n",
       " 'tru',\n",
       " '18',\n",
       " '11',\n",
       " '7',\n",
       " '8',\n",
       " '10',\n",
       " '0.235294118',\n",
       " '0.454545455',\n",
       " '0.75',\n",
       " '0.288888889',\n",
       " '1',\n",
       " '3',\n",
       " '360',\n",
       " '5',\n",
       " '61',\n",
       " '14',\n",
       " '12921',\n",
       " '50607',\n",
       " '15278',\n",
       " '96282261',\n",
       " '4',\n",
       " '1']"
      ]
     },
     "metadata": {},
     "execution_count": 30
    }
   ],
   "metadata": {}
  },
  {
   "cell_type": "code",
   "execution_count": 53,
   "source": [
    "commons_df.to_csv('commons.csv',index=False)"
   ],
   "outputs": [],
   "metadata": {}
  },
  {
   "cell_type": "code",
   "execution_count": 31,
   "source": [
    "responses = open('mald_responses.csv').read().strip().split(\"\\n\")\n",
    "responses.remove(responses[0])"
   ],
   "outputs": [],
   "metadata": {}
  },
  {
   "cell_type": "code",
   "execution_count": 32,
   "source": [
    "responses[0]"
   ],
   "outputs": [
    {
     "output_type": "execute_result",
     "data": {
      "text/plain": [
       "'aarihng,MALD1_sR,MALD1,15292,442,nonwordsn,1,15292_38,755,TRUE,38'"
      ]
     },
     "metadata": {},
     "execution_count": 32
    }
   ],
   "metadata": {}
  },
  {
   "cell_type": "code",
   "execution_count": 39,
   "source": [
    "responses_combined = []\n",
    "for r in responses:\n",
    "    r = r.split(',')\n",
    "    if r[0] in commons or r[0].lower() in commons:\n",
    "        l = commons_df.loc[commons_df.Item==r[0]].values.flatten().tolist()\n",
    "        r.extend(l)\n",
    "        responses_combined.append(r)\n"
   ],
   "outputs": [],
   "metadata": {}
  },
  {
   "cell_type": "code",
   "execution_count": 38,
   "source": [
    "if \"TRUE\" in commons:\n",
    "    print(1)"
   ],
   "outputs": [],
   "metadata": {}
  },
  {
   "cell_type": "code",
   "execution_count": 34,
   "source": [
    "responses_combined[0]"
   ],
   "outputs": [
    {
     "output_type": "execute_result",
     "data": {
      "text/plain": [
       "['accident',\n",
       " 'MALD1_sR',\n",
       " 'MALD1',\n",
       " '15292',\n",
       " '223',\n",
       " 'words38',\n",
       " '1',\n",
       " '15292_38',\n",
       " '813',\n",
       " 'TRUE',\n",
       " '38',\n",
       " 'accident',\n",
       " '123',\n",
       " 'accident',\n",
       " '@ks|d|nt',\n",
       " '1',\n",
       " '1',\n",
       " '0',\n",
       " '0',\n",
       " '1',\n",
       " '-1',\n",
       " '-1',\n",
       " '-1',\n",
       " '-1',\n",
       " '3',\n",
       " '8',\n",
       " '668',\n",
       " '9',\n",
       " '3',\n",
       " '2',\n",
       " '4146',\n",
       " '9992',\n",
       " '2929',\n",
       " '18700748',\n",
       " '9',\n",
       " '1']"
      ]
     },
     "metadata": {},
     "execution_count": 34
    }
   ],
   "metadata": {}
  },
  {
   "cell_type": "code",
   "execution_count": 40,
   "source": [
    "responses_combined_df = pd.DataFrame(data=responses_combined)"
   ],
   "outputs": [],
   "metadata": {}
  },
  {
   "cell_type": "code",
   "execution_count": 41,
   "source": [
    "responses_combined_df.to_csv('responses_combined.csv',index=False)"
   ],
   "outputs": [],
   "metadata": {}
  },
  {
   "cell_type": "code",
   "execution_count": 11,
   "source": [
    "j=0\n",
    "for i in l1_keys:\n",
    "    if i in l2_keys:\n",
    "        j+=1"
   ],
   "outputs": [],
   "metadata": {}
  },
  {
   "cell_type": "code",
   "execution_count": 12,
   "source": [
    "j"
   ],
   "outputs": [
    {
     "output_type": "execute_result",
     "data": {
      "text/plain": [
       "5594"
      ]
     },
     "metadata": {},
     "execution_count": 12
    }
   ],
   "metadata": {}
  },
  {
   "cell_type": "code",
   "execution_count": 3,
   "source": [
    "french2 = pd.read_excel('Lexique-query.xlsx')"
   ],
   "outputs": [],
   "metadata": {}
  },
  {
   "cell_type": "code",
   "execution_count": 7,
   "source": [
    "french2"
   ],
   "outputs": [
    {
     "output_type": "execute_result",
     "data": {
      "text/plain": [
       "            Word Lexique383 phon Lexique383 lemme Lexique383 cgram  \\\n",
       "0        abaisse            abEs          abaisse              NOM   \n",
       "1        abaisse            abEs         abaisser              VER   \n",
       "2       abaisser           abese         abaisser              VER   \n",
       "3        abandon           ab@d§          abandon              NOM   \n",
       "4      abandonna         ab@dona       abandonner              VER   \n",
       "...          ...             ...              ...              ...   \n",
       "19654        zoo             zoo              zoo              NOM   \n",
       "19655       zoom             zum             zoom              NOM   \n",
       "19656   zoophile          zoofil         zoophile              ADJ   \n",
       "19657     zouave            zwav           zouave              NOM   \n",
       "19658        zut             zyt              zut              ONO   \n",
       "\n",
       "       Lexique383 freqlemfilms2  Lexique383 freqfilms2  Lexique383 islem  \\\n",
       "0                          0.02                   0.02                 1   \n",
       "1                          4.93                   1.28                 0   \n",
       "2                          4.93                   1.09                 1   \n",
       "3                          4.84                   4.77                 1   \n",
       "4                        110.87                   0.59                 0   \n",
       "...                         ...                    ...               ...   \n",
       "19654                     12.17                  11.45                 1   \n",
       "19655                      2.40                   2.27                 1   \n",
       "19656                      0.03                   0.01                 1   \n",
       "19657                      0.46                   0.46                 1   \n",
       "19658                     13.69                  13.69                 1   \n",
       "\n",
       "       Lexique383 nblettres  Lexique383 puorth  Lexique383 puphon  ...  \\\n",
       "0                         7                  7                  4  ...   \n",
       "1                         7                  7                  4  ...   \n",
       "2                         8                  8                  5  ...   \n",
       "3                         7                  7                  5  ...   \n",
       "4                         9                  0                  0  ...   \n",
       "...                     ...                ...                ...  ...   \n",
       "19654                     3                  3                  3  ...   \n",
       "19655                     4                  4                  3  ...   \n",
       "19656                     8                  8                  6  ...   \n",
       "19657                     6                  4                  2  ...   \n",
       "19658                     3                  3                  3  ...   \n",
       "\n",
       "       Megalex-auditory zrt.n Megalex-auditory acy  Megalex-auditory acy.n  \\\n",
       "0                          34             0.744681                      47   \n",
       "1                          34             0.744681                      47   \n",
       "2                          46             0.978723                      47   \n",
       "3                          45             1.000000                      45   \n",
       "4                          47             1.000000                      47   \n",
       "...                       ...                  ...                     ...   \n",
       "19654                      38             0.886364                      44   \n",
       "19655                      48             0.960000                      50   \n",
       "19656                      44             1.000000                      45   \n",
       "19657                      45             0.900000                      50   \n",
       "19658                      46             0.938775                      49   \n",
       "\n",
       "       Megalex-auditory nbphon  Megalex-auditory puPhon  \\\n",
       "0                            4                        4   \n",
       "1                            4                        4   \n",
       "2                            5                        3   \n",
       "3                            5                        5   \n",
       "4                            7                        7   \n",
       "...                        ...                      ...   \n",
       "19654                        3                        3   \n",
       "19655                        3                        3   \n",
       "19656                        6                        6   \n",
       "19657                        4                        1   \n",
       "19658                        3                        1   \n",
       "\n",
       "       Megalex-auditory pld20  Megalex-auditory accd  Megalex-auditory fb  \\\n",
       "0                        1.70                    644                 3.45   \n",
       "1                        1.70                    644                 3.45   \n",
       "2                        1.85                    572                 2.91   \n",
       "3                        2.85                    550                25.20   \n",
       "4                        2.80                    696                 8.92   \n",
       "...                       ...                    ...                  ...   \n",
       "19654                    1.85                    379                 6.08   \n",
       "19655                    1.70                    513                 0.34   \n",
       "19656                    2.65                    848                 0.14   \n",
       "19657                    2.00                    652                 1.76   \n",
       "19658                    1.60                    473                 7.16   \n",
       "\n",
       "       Megalex-auditory ff  Megalex-auditory ft  \n",
       "0                     1.30                 4.75  \n",
       "1                     1.30                 4.75  \n",
       "2                     1.09                 4.00  \n",
       "3                     4.77                29.97  \n",
       "4                     0.59                 9.51  \n",
       "...                    ...                  ...  \n",
       "19654                11.45                17.53  \n",
       "19655                 2.27                 2.61  \n",
       "19656                 0.01                 0.15  \n",
       "19657                 0.46                 2.22  \n",
       "19658                13.69                20.85  \n",
       "\n",
       "[19659 rows x 27 columns]"
      ],
      "text/html": [
       "<div>\n",
       "<style scoped>\n",
       "    .dataframe tbody tr th:only-of-type {\n",
       "        vertical-align: middle;\n",
       "    }\n",
       "\n",
       "    .dataframe tbody tr th {\n",
       "        vertical-align: top;\n",
       "    }\n",
       "\n",
       "    .dataframe thead th {\n",
       "        text-align: right;\n",
       "    }\n",
       "</style>\n",
       "<table border=\"1\" class=\"dataframe\">\n",
       "  <thead>\n",
       "    <tr style=\"text-align: right;\">\n",
       "      <th></th>\n",
       "      <th>Word</th>\n",
       "      <th>Lexique383 phon</th>\n",
       "      <th>Lexique383 lemme</th>\n",
       "      <th>Lexique383 cgram</th>\n",
       "      <th>Lexique383 freqlemfilms2</th>\n",
       "      <th>Lexique383 freqfilms2</th>\n",
       "      <th>Lexique383 islem</th>\n",
       "      <th>Lexique383 nblettres</th>\n",
       "      <th>Lexique383 puorth</th>\n",
       "      <th>Lexique383 puphon</th>\n",
       "      <th>...</th>\n",
       "      <th>Megalex-auditory zrt.n</th>\n",
       "      <th>Megalex-auditory acy</th>\n",
       "      <th>Megalex-auditory acy.n</th>\n",
       "      <th>Megalex-auditory nbphon</th>\n",
       "      <th>Megalex-auditory puPhon</th>\n",
       "      <th>Megalex-auditory pld20</th>\n",
       "      <th>Megalex-auditory accd</th>\n",
       "      <th>Megalex-auditory fb</th>\n",
       "      <th>Megalex-auditory ff</th>\n",
       "      <th>Megalex-auditory ft</th>\n",
       "    </tr>\n",
       "  </thead>\n",
       "  <tbody>\n",
       "    <tr>\n",
       "      <th>0</th>\n",
       "      <td>abaisse</td>\n",
       "      <td>abEs</td>\n",
       "      <td>abaisse</td>\n",
       "      <td>NOM</td>\n",
       "      <td>0.02</td>\n",
       "      <td>0.02</td>\n",
       "      <td>1</td>\n",
       "      <td>7</td>\n",
       "      <td>7</td>\n",
       "      <td>4</td>\n",
       "      <td>...</td>\n",
       "      <td>34</td>\n",
       "      <td>0.744681</td>\n",
       "      <td>47</td>\n",
       "      <td>4</td>\n",
       "      <td>4</td>\n",
       "      <td>1.70</td>\n",
       "      <td>644</td>\n",
       "      <td>3.45</td>\n",
       "      <td>1.30</td>\n",
       "      <td>4.75</td>\n",
       "    </tr>\n",
       "    <tr>\n",
       "      <th>1</th>\n",
       "      <td>abaisse</td>\n",
       "      <td>abEs</td>\n",
       "      <td>abaisser</td>\n",
       "      <td>VER</td>\n",
       "      <td>4.93</td>\n",
       "      <td>1.28</td>\n",
       "      <td>0</td>\n",
       "      <td>7</td>\n",
       "      <td>7</td>\n",
       "      <td>4</td>\n",
       "      <td>...</td>\n",
       "      <td>34</td>\n",
       "      <td>0.744681</td>\n",
       "      <td>47</td>\n",
       "      <td>4</td>\n",
       "      <td>4</td>\n",
       "      <td>1.70</td>\n",
       "      <td>644</td>\n",
       "      <td>3.45</td>\n",
       "      <td>1.30</td>\n",
       "      <td>4.75</td>\n",
       "    </tr>\n",
       "    <tr>\n",
       "      <th>2</th>\n",
       "      <td>abaisser</td>\n",
       "      <td>abese</td>\n",
       "      <td>abaisser</td>\n",
       "      <td>VER</td>\n",
       "      <td>4.93</td>\n",
       "      <td>1.09</td>\n",
       "      <td>1</td>\n",
       "      <td>8</td>\n",
       "      <td>8</td>\n",
       "      <td>5</td>\n",
       "      <td>...</td>\n",
       "      <td>46</td>\n",
       "      <td>0.978723</td>\n",
       "      <td>47</td>\n",
       "      <td>5</td>\n",
       "      <td>3</td>\n",
       "      <td>1.85</td>\n",
       "      <td>572</td>\n",
       "      <td>2.91</td>\n",
       "      <td>1.09</td>\n",
       "      <td>4.00</td>\n",
       "    </tr>\n",
       "    <tr>\n",
       "      <th>3</th>\n",
       "      <td>abandon</td>\n",
       "      <td>ab@d§</td>\n",
       "      <td>abandon</td>\n",
       "      <td>NOM</td>\n",
       "      <td>4.84</td>\n",
       "      <td>4.77</td>\n",
       "      <td>1</td>\n",
       "      <td>7</td>\n",
       "      <td>7</td>\n",
       "      <td>5</td>\n",
       "      <td>...</td>\n",
       "      <td>45</td>\n",
       "      <td>1.000000</td>\n",
       "      <td>45</td>\n",
       "      <td>5</td>\n",
       "      <td>5</td>\n",
       "      <td>2.85</td>\n",
       "      <td>550</td>\n",
       "      <td>25.20</td>\n",
       "      <td>4.77</td>\n",
       "      <td>29.97</td>\n",
       "    </tr>\n",
       "    <tr>\n",
       "      <th>4</th>\n",
       "      <td>abandonna</td>\n",
       "      <td>ab@dona</td>\n",
       "      <td>abandonner</td>\n",
       "      <td>VER</td>\n",
       "      <td>110.87</td>\n",
       "      <td>0.59</td>\n",
       "      <td>0</td>\n",
       "      <td>9</td>\n",
       "      <td>0</td>\n",
       "      <td>0</td>\n",
       "      <td>...</td>\n",
       "      <td>47</td>\n",
       "      <td>1.000000</td>\n",
       "      <td>47</td>\n",
       "      <td>7</td>\n",
       "      <td>7</td>\n",
       "      <td>2.80</td>\n",
       "      <td>696</td>\n",
       "      <td>8.92</td>\n",
       "      <td>0.59</td>\n",
       "      <td>9.51</td>\n",
       "    </tr>\n",
       "    <tr>\n",
       "      <th>...</th>\n",
       "      <td>...</td>\n",
       "      <td>...</td>\n",
       "      <td>...</td>\n",
       "      <td>...</td>\n",
       "      <td>...</td>\n",
       "      <td>...</td>\n",
       "      <td>...</td>\n",
       "      <td>...</td>\n",
       "      <td>...</td>\n",
       "      <td>...</td>\n",
       "      <td>...</td>\n",
       "      <td>...</td>\n",
       "      <td>...</td>\n",
       "      <td>...</td>\n",
       "      <td>...</td>\n",
       "      <td>...</td>\n",
       "      <td>...</td>\n",
       "      <td>...</td>\n",
       "      <td>...</td>\n",
       "      <td>...</td>\n",
       "      <td>...</td>\n",
       "    </tr>\n",
       "    <tr>\n",
       "      <th>19654</th>\n",
       "      <td>zoo</td>\n",
       "      <td>zoo</td>\n",
       "      <td>zoo</td>\n",
       "      <td>NOM</td>\n",
       "      <td>12.17</td>\n",
       "      <td>11.45</td>\n",
       "      <td>1</td>\n",
       "      <td>3</td>\n",
       "      <td>3</td>\n",
       "      <td>3</td>\n",
       "      <td>...</td>\n",
       "      <td>38</td>\n",
       "      <td>0.886364</td>\n",
       "      <td>44</td>\n",
       "      <td>3</td>\n",
       "      <td>3</td>\n",
       "      <td>1.85</td>\n",
       "      <td>379</td>\n",
       "      <td>6.08</td>\n",
       "      <td>11.45</td>\n",
       "      <td>17.53</td>\n",
       "    </tr>\n",
       "    <tr>\n",
       "      <th>19655</th>\n",
       "      <td>zoom</td>\n",
       "      <td>zum</td>\n",
       "      <td>zoom</td>\n",
       "      <td>NOM</td>\n",
       "      <td>2.40</td>\n",
       "      <td>2.27</td>\n",
       "      <td>1</td>\n",
       "      <td>4</td>\n",
       "      <td>4</td>\n",
       "      <td>3</td>\n",
       "      <td>...</td>\n",
       "      <td>48</td>\n",
       "      <td>0.960000</td>\n",
       "      <td>50</td>\n",
       "      <td>3</td>\n",
       "      <td>3</td>\n",
       "      <td>1.70</td>\n",
       "      <td>513</td>\n",
       "      <td>0.34</td>\n",
       "      <td>2.27</td>\n",
       "      <td>2.61</td>\n",
       "    </tr>\n",
       "    <tr>\n",
       "      <th>19656</th>\n",
       "      <td>zoophile</td>\n",
       "      <td>zoofil</td>\n",
       "      <td>zoophile</td>\n",
       "      <td>ADJ</td>\n",
       "      <td>0.03</td>\n",
       "      <td>0.01</td>\n",
       "      <td>1</td>\n",
       "      <td>8</td>\n",
       "      <td>8</td>\n",
       "      <td>6</td>\n",
       "      <td>...</td>\n",
       "      <td>44</td>\n",
       "      <td>1.000000</td>\n",
       "      <td>45</td>\n",
       "      <td>6</td>\n",
       "      <td>6</td>\n",
       "      <td>2.65</td>\n",
       "      <td>848</td>\n",
       "      <td>0.14</td>\n",
       "      <td>0.01</td>\n",
       "      <td>0.15</td>\n",
       "    </tr>\n",
       "    <tr>\n",
       "      <th>19657</th>\n",
       "      <td>zouave</td>\n",
       "      <td>zwav</td>\n",
       "      <td>zouave</td>\n",
       "      <td>NOM</td>\n",
       "      <td>0.46</td>\n",
       "      <td>0.46</td>\n",
       "      <td>1</td>\n",
       "      <td>6</td>\n",
       "      <td>4</td>\n",
       "      <td>2</td>\n",
       "      <td>...</td>\n",
       "      <td>45</td>\n",
       "      <td>0.900000</td>\n",
       "      <td>50</td>\n",
       "      <td>4</td>\n",
       "      <td>1</td>\n",
       "      <td>2.00</td>\n",
       "      <td>652</td>\n",
       "      <td>1.76</td>\n",
       "      <td>0.46</td>\n",
       "      <td>2.22</td>\n",
       "    </tr>\n",
       "    <tr>\n",
       "      <th>19658</th>\n",
       "      <td>zut</td>\n",
       "      <td>zyt</td>\n",
       "      <td>zut</td>\n",
       "      <td>ONO</td>\n",
       "      <td>13.69</td>\n",
       "      <td>13.69</td>\n",
       "      <td>1</td>\n",
       "      <td>3</td>\n",
       "      <td>3</td>\n",
       "      <td>3</td>\n",
       "      <td>...</td>\n",
       "      <td>46</td>\n",
       "      <td>0.938775</td>\n",
       "      <td>49</td>\n",
       "      <td>3</td>\n",
       "      <td>1</td>\n",
       "      <td>1.60</td>\n",
       "      <td>473</td>\n",
       "      <td>7.16</td>\n",
       "      <td>13.69</td>\n",
       "      <td>20.85</td>\n",
       "    </tr>\n",
       "  </tbody>\n",
       "</table>\n",
       "<p>19659 rows × 27 columns</p>\n",
       "</div>"
      ]
     },
     "metadata": {},
     "execution_count": 7
    }
   ],
   "metadata": {}
  },
  {
   "cell_type": "code",
   "execution_count": null,
   "source": [],
   "outputs": [],
   "metadata": {}
  }
 ]
}